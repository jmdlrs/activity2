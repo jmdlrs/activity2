{
 "cells": [
  {
   "cell_type": "code",
   "execution_count": 1,
   "id": "b67fd1be",
   "metadata": {},
   "outputs": [],
   "source": [
    "import cv2  \n",
    "  \n",
    "\n",
    "face_cascade = cv2.CascadeClassifier('haarcascade_frontalface_default.xml')  \n",
    "  \n",
    "\n",
    "cap = cv2.VideoCapture(0)  \n",
    "  \n",
    "while True:  \n",
    "    \n",
    "    _, img = cap.read()  \n",
    "  \n",
    "    gray = cv2.cvtColor(img, cv2.COLOR_BGR2GRAY)  \n",
    "   \n",
    "    faces = face_cascade.detectMultiScale(gray, 1.1, 4)  \n",
    "  \n",
    "    for (x, y, w, h) in faces:  \n",
    "        cv2.rectangle(img, (x, y), (x+w, y+h), (255, 255, 255), 2)  \n",
    "  \n",
    " \n",
    "    cv2.imshow('Video', img)  \n",
    "  \n",
    "    # Stop if escape key is pressed  \n",
    "    k = cv2.waitKey(30) & 0xff  \n",
    "    if k==27:  \n",
    "        break  \n",
    "          \n",
    "# Release the VideoCapture object  \n",
    "cap.release()  "
   ]
  },
  {
   "cell_type": "code",
   "execution_count": null,
   "id": "16f8430a",
   "metadata": {},
   "outputs": [],
   "source": []
  }
 ],
 "metadata": {
  "kernelspec": {
   "display_name": "Python 3 (ipykernel)",
   "language": "python",
   "name": "python3"
  },
  "language_info": {
   "codemirror_mode": {
    "name": "ipython",
    "version": 3
   },
   "file_extension": ".py",
   "mimetype": "text/x-python",
   "name": "python",
   "nbconvert_exporter": "python",
   "pygments_lexer": "ipython3",
   "version": "3.9.12"
  }
 },
 "nbformat": 4,
 "nbformat_minor": 5
}
